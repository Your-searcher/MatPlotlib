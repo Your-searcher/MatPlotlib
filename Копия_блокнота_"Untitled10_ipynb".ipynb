{
  "nbformat": 4,
  "nbformat_minor": 0,
  "metadata": {
    "colab": {
      "provenance": [],
      "authorship_tag": "ABX9TyMVaJu8UVHbskjyB/tIo4Wd",
      "include_colab_link": true
    },
    "kernelspec": {
      "name": "python3",
      "display_name": "Python 3"
    },
    "language_info": {
      "name": "python"
    }
  },
  "cells": [
    {
      "cell_type": "markdown",
      "metadata": {
        "id": "view-in-github",
        "colab_type": "text"
      },
      "source": [
        "<a href=\"https://colab.research.google.com/github/Your-searcher/MatPlotlib/blob/main/%D0%9A%D0%BE%D0%BF%D0%B8%D1%8F_%D0%B1%D0%BB%D0%BE%D0%BA%D0%BD%D0%BE%D1%82%D0%B0_%22Untitled10_ipynb%22.ipynb\" target=\"_parent\"><img src=\"https://colab.research.google.com/assets/colab-badge.svg\" alt=\"Open In Colab\"/></a>"
      ]
    },
    {
      "cell_type": "code",
      "execution_count": null,
      "metadata": {
        "colab": {
          "base_uri": "https://localhost:8080/"
        },
        "id": "G2I5hYez2TuV",
        "outputId": "95be7f03-13b4-446b-d2d1-755396b800df"
      },
      "outputs": [
        {
          "output_type": "stream",
          "name": "stdout",
          "text": [
            "  y      y`       e\n",
            "---  ------  ------\n",
            "  3   4.104  -1.104\n",
            "  8   6.118   1.882\n",
            "  6   8.132  -2.132\n",
            " 12  10.146   1.854\n",
            " 11  12.16   -1.16\n",
            " 17  14.174   2.826\n",
            " 15  16.188  -1.188\n",
            " 20  18.202   1.798\n",
            " 16  20.216  -4.216\n",
            " 24  22.23    1.77\n",
            " 22  24.244  -2.244\n",
            " 28  26.258   1.742\n",
            " 26  28.272  -2.272\n",
            " 34  30.286   3.714\n",
            " 31  32.3    -1.3\n",
            "DW =  3.56\n"
          ]
        }
      ],
      "source": [
        "import numpy as np\n",
        "from statsmodels.stats.stattools import durbin_watson\n",
        "import matplotlib.pyplot as plt\n",
        "from tabulate import tabulate\n",
        "\n",
        "y = np.array([3, 8, 6, 12, 11, 17, 15, 20, 16, 24, 22, 28, 26, 34, 31])\n",
        "y1 = np.array([4.104, 6.118, 8.132, 10.146, 12.160, 14.174, 16.188, 18.202,\n",
        "               20.216, 22.230, 24.244, 26.258, 28.272, 30.286, 32.300])\n",
        "a = len(y)\n",
        "e = np.array([])\n",
        "for i in range(a):\n",
        "  e = np.append(e, [y[i]-y1[i]])\n",
        "print(tabulate({\"y\": y,'y`': y1, 'e': e}, headers = 'keys'))\n",
        "#Использование метода\n",
        "cdv = durbin_watson(e)\n",
        "  \n",
        "print(\"DW = \", round(cdv, 2))"
      ]
    },
    {
      "cell_type": "code",
      "source": [
        "import numpy as np\n",
        "from statsmodels.stats.stattools import durbin_watson\n",
        "import matplotlib.pyplot as plt\n",
        "from tabulate import tabulate\n",
        "\n",
        "y = np.array([3, 8, 6, 12, 11, 17, 15, 20, 16, 24, 22, 28, 26, 34, 31])\n",
        "y1 = np.array([4.104, 6.118, 8.132, 10.146, 12.160, 14.174, 16.188, 18.202,\n",
        "               20.216, 22.230, 24.244, 26.258, 28.272, 30.286, 32.300])\n",
        "a = len(y)\n",
        "sum, sum1 = 0, 0\n",
        "e = np.array([])\n",
        "e2 = np.array([])\n",
        "e3 = np.array([0])\n",
        "e4 = np.array([0])\n",
        "for i in range(a):\n",
        "  e = np.append(e, [y[i]-y1[i]])\n",
        "for i in range(a):\n",
        "  e2 = np.append(e2, round(e[i]*e[i], 3))\n",
        "  sum = sum + e2[i]\n",
        "for i in range(a-1):\n",
        "  e4 = np.append(e4, round((e[i+1]-e[i]), 3))\n",
        "for i in range(a-1):\n",
        "  e3 = np.append(e3, round((e[i+1]-e[i])**2, 3))\n",
        "  sum1 = sum1 + e3[i]\n",
        "print(tabulate({\"y\": y,'y`': y1, 'e': e, 'e^2': e2, '(e\\i\\)-e\\i-1\\)^2': e3},\n",
        "               headers = 'keys'))\n",
        "#Использование метода\n",
        "cdv = (sum1+e3[a-1])/sum\n",
        "  \n",
        "fig, ax = plt.subplots()\n",
        "ax.set_title(r'График остатков', fontsize = 20, pad = 20)    \n",
        "ax.grid()\n",
        "plt.plot(e4, e, 'ro')\n",
        "plt.show()\n",
        "print(\"DW = \", round(cdv, 2))"
      ],
      "metadata": {
        "colab": {
          "base_uri": "https://localhost:8080/",
          "height": 612
        },
        "id": "e-9CNcUCKBVl",
        "outputId": "dbf91568-c1e7-4c02-c0db-20bb315deb54"
      },
      "execution_count": null,
      "outputs": [
        {
          "output_type": "stream",
          "name": "stdout",
          "text": [
            "  y      y`       e     e^2    (e\\i\\)-e\\i-1\\)^2\n",
            "---  ------  ------  ------  ------------------\n",
            "  3   4.104  -1.104   1.219               0\n",
            "  8   6.118   1.882   3.542               8.916\n",
            "  6   8.132  -2.132   4.545              16.112\n",
            " 12  10.146   1.854   3.437              15.888\n",
            " 11  12.16   -1.16    1.346               9.084\n",
            " 17  14.174   2.826   7.986              15.888\n",
            " 15  16.188  -1.188   1.411              16.112\n",
            " 20  18.202   1.798   3.233               8.916\n",
            " 16  20.216  -4.216  17.775              36.168\n",
            " 24  22.23    1.77    3.133              35.832\n",
            " 22  24.244  -2.244   5.036              16.112\n",
            " 28  26.258   1.742   3.035              15.888\n",
            " 26  28.272  -2.272   5.162              16.112\n",
            " 34  30.286   3.714  13.794              35.832\n",
            " 31  32.3    -1.3     1.69               25.14\n"
          ]
        },
        {
          "output_type": "display_data",
          "data": {
            "text/plain": [
              "<Figure size 432x288 with 1 Axes>"
            ],
            "image/png": "[encoded data removed]"
          },
          "metadata": {
            "needs_background": "light"
          }
        },
        {
          "output_type": "stream",
          "name": "stdout",
          "text": [
            "DW =  3.56\n"
          ]
        }
      ]
    }
  ]
}